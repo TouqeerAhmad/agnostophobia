{
 "cells": [
  {
   "cell_type": "code",
   "execution_count": 1,
   "metadata": {},
   "outputs": [],
   "source": [
    "import sys\n",
    "sys.path.insert(0, '../Tools/')"
   ]
  },
  {
   "cell_type": "code",
   "execution_count": 2,
   "metadata": {},
   "outputs": [
    {
     "name": "stderr",
     "output_type": "stream",
     "text": [
      "Using TensorFlow backend.\n"
     ]
    }
   ],
   "source": [
    "import data_prep\n",
    "import model_tools"
   ]
  },
  {
   "cell_type": "code",
   "execution_count": 3,
   "metadata": {},
   "outputs": [],
   "source": [
    "import keras\n",
    "from keras import backend as K\n",
    "GPU_NO=\"0\"\n",
    "from keras.backend.tensorflow_backend import set_session\n",
    "import tensorflow as tf\n",
    "config = tf.ConfigProto()\n",
    "config.gpu_options.allow_growth = True\n",
    "config.gpu_options.visible_device_list = GPU_NO\n",
    "set_session(tf.Session(config=config))"
   ]
  },
  {
   "cell_type": "code",
   "execution_count": 4,
   "metadata": {},
   "outputs": [],
   "source": [
    "mnist=data_prep.mnist_data_prep()\n",
    "letters=data_prep.letters_prep()"
   ]
  },
  {
   "cell_type": "code",
   "execution_count": 5,
   "metadata": {
    "collapsed": false
   },
   "outputs": [],
   "source": [
    "import numpy as np\n",
    "import plotly.plotly as py\n",
    "from plotly.graph_objs import *\n",
    "import plotly\n",
    "from plotly.graph_objs import Scatter, Layout\n",
    "import os\n",
    "from IPython.display import display, HTML"
   ]
  },
  {
   "cell_type": "code",
   "execution_count": 6,
   "metadata": {
    "collapsed": false
   },
   "outputs": [],
   "source": [
    "def plot_3D(features,meta_data,output_file,alpha=False):\n",
    "    meta_data=np.array(meta_data)\n",
    "    colors=data_prep.colors*256\n",
    "    x=features[:,0]\n",
    "    y=features[:,1]\n",
    "    z=np.zeros(len(features[:,1]))\n",
    "    \n",
    "    feature_trace=[]\n",
    "    feature_anno=[]\n",
    "    plane_trace=[]\n",
    "\n",
    "    for i in list(set(meta_data)):\n",
    "        feature_trace.append(dict(\n",
    "                                      x = x[meta_data==i], \n",
    "                                      y = y[meta_data==i],\n",
    "                                      z = z[meta_data==i],\n",
    "                                      marker = dict(\n",
    "                                                        color = \"rgb(\"+str(colors[i][0])+\",\"+str(colors[i][1])+\",\"+str(colors[i][2])+\")\", \n",
    "                                                        size = 1,\n",
    "                                                        showscale = False,\n",
    "                                                    ), \n",
    "                                      mode = \"markers\",\n",
    "                                      name = str(i),\n",
    "                                      type = \"scatter3d\"\n",
    "                                ))\n",
    "        feature_anno.append(dict(\n",
    "                                    x=i*0.1,\n",
    "                                    y=-0.1,\n",
    "                                    text=str(i),\n",
    "                                    showarrow=False,\n",
    "                                    font=dict(\n",
    "                                        family='Courier New, monospace',\n",
    "                                        size=16,\n",
    "                                        color=\"rgb(\"+str(colors[i][0])+\",\"+str(colors[i][1])+\",\"+str(colors[i][2])+\")\"\n",
    "                                )))\n",
    "        min_x,max_x=np.min(x[meta_data<10]),np.max(x[meta_data<10])\n",
    "        min_y,max_y=np.min(y[meta_data<10]),np.max(y[meta_data<10])\n",
    "        all_x=np.linspace(min_x*1.5, max_x*1.5,5)\n",
    "        all_y=np.linspace(min_y*1.5, max_y*1.5,5)\n",
    "        \n",
    "        e_=[]\n",
    "        for y_ in all_y.tolist():\n",
    "            e_.append(np.dot(np.transpose(np.array([all_x,np.ones(len(all_x))*y_])),pred_weights[:,i]))\n",
    "            \n",
    "        plane_trace.append(dict(\n",
    "            x = all_x.tolist(),\n",
    "            y = all_y.tolist(),\n",
    "            z = e_,\n",
    "            colorscale = [\n",
    "                            [0, \"rgba(\"+str(colors[i][0])+\",\"+str(colors[i][1])+\",\"+str(colors[i][2])+\",0.1)\"], \n",
    "                            [1, \"rgba(\"+str(colors[i][0])+\",\"+str(colors[i][1])+\",\"+str(colors[i][2])+\",0.1)\"], \n",
    "                        ],\n",
    "            showscale = False,\n",
    "            name = str(i)+\" Plane\", \n",
    "            type = \"surface\"\n",
    "        ))\n",
    "        \n",
    "    if alpha:\n",
    "        e_=(np.ones((len(all_y),len(all_x)))*100).tolist()\n",
    "\n",
    "        plane_trace.append(dict(\n",
    "                            x = all_x.tolist(), \n",
    "                            y = all_y.tolist(),\n",
    "                            z = e_,\n",
    "                            colorscale = [[0, \"rgb(0,0,0)\"],[1, \"rgb(0,0,0)\"]],\n",
    "                            showscale = False,\n",
    "                            name = \"Alpha Plane\",\n",
    "                            type = \"surface\",\n",
    "                        ))\n",
    "\n",
    "    l=dict(\n",
    "            autorange=True,\n",
    "            showgrid=False,\n",
    "            zeroline=False,\n",
    "            showline=False,\n",
    "            ticks='',\n",
    "            showticklabels=False,\n",
    "            title = ''\n",
    "        )\n",
    "\n",
    "    layout = plotly.graph_objs.Layout(\n",
    "        scene=dict(\n",
    "                    xaxis=l,\n",
    "                    yaxis=l,\n",
    "                    zaxis=l\n",
    "                ),\n",
    "        showlegend=False,\n",
    "        annotations=feature_anno,\n",
    "        updatemenus=[\n",
    "                    {'type': 'buttons',\n",
    "                     'buttons': [{'label': 'Show Planes',\n",
    "                                   'method': 'animate',\n",
    "                                   'args': [None,{'frame':{'duration':1400, 'redraw':True}}]}]}]\n",
    "    )\n",
    "\n",
    "\n",
    "    plotly.offline.plot({\n",
    "                          'data': Data(plane_trace),\n",
    "                            \"layout\":layout,\n",
    "                            'frames':[{'data': Data(feature_trace)},\n",
    "                                      {'data': Data(plane_trace)},\n",
    "                                      {'data': Data(feature_trace)},\n",
    "                                     ]\n",
    "                        })\n",
    "    \n",
    "    os.rename('temp-plot.html',output_file)\n",
    "    display(HTML(\"<iframe width=\\\"100%\\\" height=\\\"500\\\" src=\"+output_file+\"></iframe>\"))"
   ]
  },
  {
   "cell_type": "code",
   "execution_count": 7,
   "metadata": {},
   "outputs": [],
   "source": [
    "random_model_no='0'\n",
    "dataset_type='Devanagari'"
   ]
  },
  {
   "cell_type": "code",
   "execution_count": 8,
   "metadata": {},
   "outputs": [],
   "source": [
    "vanilla_lenet_pp=keras.models.load_model('LeNet++/Models/Vanilla_'+random_model_no+'.h5py')\n",
    "mnist_fc_output=model_tools.extract_features(vanilla_lenet_pp,mnist.X_train,layer_name=['fc'])\n",
    "pred_weights=vanilla_lenet_pp.get_layer('pred').get_weights()[0]"
   ]
  },
  {
   "cell_type": "code",
   "execution_count": 9,
   "metadata": {},
   "outputs": [
    {
     "name": "stderr",
     "output_type": "stream",
     "text": [
      "/home/adhamija/anaconda2/envs/keras/lib/python2.7/site-packages/plotly/graph_objs/_deprecations.py:39: DeprecationWarning:\n",
      "\n",
      "plotly.graph_objs.Data is deprecated.\n",
      "Please replace it with a list or tuple of instances of the following types\n",
      "  - plotly.graph_objs.Scatter\n",
      "  - plotly.graph_objs.Bar\n",
      "  - plotly.graph_objs.Area\n",
      "  - plotly.graph_objs.Histogram\n",
      "  - etc.\n",
      "\n",
      "\n"
     ]
    },
    {
     "data": {
      "text/html": [
       "<iframe width=\"100%\" height=\"500\" src=No_alpha_Plane.html></iframe>"
      ],
      "text/plain": [
       "<IPython.core.display.HTML object>"
      ]
     },
     "metadata": {},
     "output_type": "display_data"
    }
   ],
   "source": [
    "plot_3D(mnist_fc_output,mnist.labels_train,output_file='No_alpha_Plane.html',alpha=False)"
   ]
  },
  {
   "cell_type": "code",
   "execution_count": 10,
   "metadata": {},
   "outputs": [
    {
     "data": {
      "text/html": [
       "<iframe width=\"100%\" height=\"500\" src=With_alpha_Plane.html></iframe>"
      ],
      "text/plain": [
       "<IPython.core.display.HTML object>"
      ]
     },
     "metadata": {},
     "output_type": "display_data"
    }
   ],
   "source": [
    "plot_3D(mnist_fc_output,mnist.labels_train,output_file='With_alpha_Plane.html',alpha=True)"
   ]
  },
  {
   "cell_type": "markdown",
   "metadata": {},
   "source": [
    "### Background Class"
   ]
  },
  {
   "cell_type": "code",
   "execution_count": 11,
   "metadata": {},
   "outputs": [],
   "source": [
    "bg_lenet_pp=keras.models.load_model('LeNet++/Models/BG_'+random_model_no+'.h5py')\n",
    "mnist_fc_output=model_tools.extract_features(bg_lenet_pp,mnist.X_train,layer_name=['fc'])\n",
    "pred_weights=bg_lenet_pp.get_layer('pred').get_weights()[0]"
   ]
  },
  {
   "cell_type": "code",
   "execution_count": 12,
   "metadata": {},
   "outputs": [],
   "source": [
    "letters_fc_output=model_tools.extract_features(bg_lenet_pp,letters.X_train,layer_name=['fc'])\n",
    "labels=mnist.labels_train.tolist()\n",
    "labels.extend((np.ones(len(letters.X_train))*10).astype(np.int32).tolist())"
   ]
  },
  {
   "cell_type": "code",
   "execution_count": 13,
   "metadata": {},
   "outputs": [
    {
     "data": {
      "text/html": [
       "<iframe width=\"100%\" height=\"500\" src=BG_Plane.html></iframe>"
      ],
      "text/plain": [
       "<IPython.core.display.HTML object>"
      ]
     },
     "metadata": {},
     "output_type": "display_data"
    }
   ],
   "source": [
    "plot_3D(np.array(mnist_fc_output.tolist()+letters_fc_output.tolist()),labels,output_file='BG_Plane.html',alpha=False)"
   ]
  },
  {
   "cell_type": "code",
   "execution_count": null,
   "metadata": {},
   "outputs": [],
   "source": []
  },
  {
   "cell_type": "code",
   "execution_count": null,
   "metadata": {},
   "outputs": [],
   "source": []
  }
 ],
 "metadata": {
  "anaconda-cloud": {},
  "kernelspec": {
   "display_name": "Python 2",
   "language": "python",
   "name": "python2"
  },
  "language_info": {
   "codemirror_mode": {
    "name": "ipython",
    "version": 2
   },
   "file_extension": ".py",
   "mimetype": "text/x-python",
   "name": "python",
   "nbconvert_exporter": "python",
   "pygments_lexer": "ipython2",
   "version": "2.7.15"
  }
 },
 "nbformat": 4,
 "nbformat_minor": 2
}
